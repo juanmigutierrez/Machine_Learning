{
 "cells": [
  {
   "cell_type": "code",
   "execution_count": 1,
   "metadata": {},
   "outputs": [
    {
     "name": "stdout",
     "output_type": "stream",
     "text": [
      "Holi\n"
     ]
    }
   ],
   "source": [
    "import numpy as np\n",
    "import pandas as pd \n",
    "import random\n",
    "import datetime as dt\n",
    "import os\n",
    "from matplotlib import pyplot as plt\n",
    "import seaborn as sns\n",
    "from pandas.plotting import register_matplotlib_converters\n",
    "from sklearn.preprocessing import MinMaxScaler\n",
    "\n",
    "register_matplotlib_converters() # Funcion que convierte implicitamente la series de tiempo\n",
    "\n",
    "print(\"Holi\")"
   ]
  },
  {
   "cell_type": "code",
   "execution_count": 2,
   "metadata": {},
   "outputs": [
    {
     "name": "stdout",
     "output_type": "stream",
     "text": [
      "----------------PRIMEROS DATOS BASE CRIPTOMONEDAS ----------------------\n",
      "      slug symbol     name        date  ranknow    open    high     low  \\\n",
      "0  bitcoin    BTC  Bitcoin  2013-04-28        1  135.30  135.98  132.10   \n",
      "1  bitcoin    BTC  Bitcoin  2013-04-29        1  134.44  147.49  134.00   \n",
      "2  bitcoin    BTC  Bitcoin  2013-04-30        1  144.00  146.93  134.05   \n",
      "3  bitcoin    BTC  Bitcoin  2013-05-01        1  139.00  139.89  107.72   \n",
      "4  bitcoin    BTC  Bitcoin  2013-05-02        1  116.38  125.60   92.28   \n",
      "\n",
      "    close  volume        market  close_ratio  spread  \n",
      "0  134.21     0.0  1.488567e+09       0.5438    3.88  \n",
      "1  144.54     0.0  1.603769e+09       0.7813   13.49  \n",
      "2  139.00     0.0  1.542813e+09       0.3843   12.88  \n",
      "3  116.99     0.0  1.298955e+09       0.2882   32.17  \n",
      "4  105.21     0.0  1.168517e+09       0.3881   33.32  \n"
     ]
    }
   ],
   "source": [
    "Cripto_Series=pd.read_csv(\"C:\\\\Users\\\\Recup\\\\OneDrive\\\\Documentos\\\\Machine_Learning\\\\semilleroml_macc\\\\Time_series\\\\crypto-markets.csv\")\n",
    "# Imprime los primeros datos de la la base de datos\n",
    "print(\"----------------PRIMEROS DATOS BASE CRIPTOMONEDAS ----------------------\")\n",
    "print(Cripto_Series.head())\n",
    "# Imprime algunas estadisticas descriptivas\n",
    "## print(Cripto_Series.describe())\n",
    "# Informacion para saber el tipo de variable numerico/String\n",
    "#print(Cripto_Series.info())"
   ]
  },
  {
   "cell_type": "code",
   "execution_count": 3,
   "metadata": {},
   "outputs": [
    {
     "name": "stdout",
     "output_type": "stream",
     "text": [
      "----------------PRIMEROS DATOS BASE CRIPTOMONEDAS #2 ----------------------\n",
      "      slug symbol     name        date  ranknow    open    high     low  \\\n",
      "0  bitcoin    BTC  Bitcoin  2013-04-28        1  135.30  135.98  132.10   \n",
      "1  bitcoin    BTC  Bitcoin  2013-04-29        1  134.44  147.49  134.00   \n",
      "2  bitcoin    BTC  Bitcoin  2013-04-30        1  144.00  146.93  134.05   \n",
      "3  bitcoin    BTC  Bitcoin  2013-05-01        1  139.00  139.89  107.72   \n",
      "4  bitcoin    BTC  Bitcoin  2013-05-02        1  116.38  125.60   92.28   \n",
      "\n",
      "    close  volume        market  close_ratio  spread  \n",
      "0  134.21     0.0  1.488567e+09       0.5438    3.88  \n",
      "1  144.54     0.0  1.603769e+09       0.7813   13.49  \n",
      "2  139.00     0.0  1.542813e+09       0.3843   12.88  \n",
      "3  116.99     0.0  1.298955e+09       0.2882   32.17  \n",
      "4  105.21     0.0  1.168517e+09       0.3881   33.32  \n",
      "----------------------DATOS CONVERTIDOS---------------------\n",
      "0      2013-04-28\n",
      "1      2013-04-29\n",
      "2      2013-04-30\n",
      "3      2013-05-01\n",
      "4      2013-05-02\n",
      "5      2013-05-03\n",
      "6      2013-05-04\n",
      "7      2013-05-05\n",
      "8      2013-05-06\n",
      "9      2013-05-07\n",
      "10     2013-05-08\n",
      "11     2013-05-09\n",
      "12     2013-05-10\n",
      "13     2013-05-11\n",
      "14     2013-05-12\n",
      "15     2013-05-13\n",
      "16     2013-05-14\n",
      "17     2013-05-15\n",
      "18     2013-05-16\n",
      "19     2013-05-17\n",
      "20     2013-05-18\n",
      "21     2013-05-19\n",
      "22     2013-05-20\n",
      "23     2013-05-21\n",
      "24     2013-05-22\n",
      "25     2013-05-23\n",
      "26     2013-05-24\n",
      "27     2013-05-25\n",
      "28     2013-05-26\n",
      "29     2013-05-27\n",
      "          ...    \n",
      "2012   2018-10-31\n",
      "2013   2018-11-01\n",
      "2014   2018-11-02\n",
      "2015   2018-11-03\n",
      "2016   2018-11-04\n",
      "2017   2018-11-05\n",
      "2018   2018-11-06\n",
      "2019   2018-11-07\n",
      "2020   2018-11-08\n",
      "2021   2018-11-09\n",
      "2022   2018-11-10\n",
      "2023   2018-11-11\n",
      "2024   2018-11-12\n",
      "2025   2018-11-13\n",
      "2026   2018-11-14\n",
      "2027   2018-11-15\n",
      "2028   2018-11-16\n",
      "2029   2018-11-17\n",
      "2030   2018-11-18\n",
      "2031   2018-11-19\n",
      "2032   2018-11-20\n",
      "2033   2018-11-21\n",
      "2034   2018-11-22\n",
      "2035   2018-11-23\n",
      "2036   2018-11-24\n",
      "2037   2018-11-25\n",
      "2038   2018-11-26\n",
      "2039   2018-11-27\n",
      "2040   2018-11-28\n",
      "2041   2018-11-29\n",
      "Name: date, Length: 2042, dtype: datetime64[ns]\n"
     ]
    },
    {
     "name": "stderr",
     "output_type": "stream",
     "text": [
      "c:\\programdata\\miniconda3\\lib\\site-packages\\pandas\\core\\generic.py:5096: SettingWithCopyWarning: \n",
      "A value is trying to be set on a copy of a slice from a DataFrame.\n",
      "Try using .loc[row_indexer,col_indexer] = value instead\n",
      "\n",
      "See the caveats in the documentation: http://pandas.pydata.org/pandas-docs/stable/indexing.html#indexing-view-versus-copy\n",
      "  self[name] = value\n"
     ]
    }
   ],
   "source": [
    "########################## BITCOIN #######################\n",
    "\n",
    "# print(Cripto_Series.loc[Cripto_Series[\"name\"]==\"Bitcoin\"]) --> Seleciono solo Bitcoin de toda la base de datos\n",
    "BTC=Cripto_Series.loc[Cripto_Series[\"name\"]==\"Bitcoin\"]\n",
    "print(\"----------------PRIMEROS DATOS BASE CRIPTOMONEDAS #2 ----------------------\")\n",
    "print(BTC.head())\n",
    "# Convertir date a tipo date\n",
    "#print(BTC.date)\n",
    "BTC.date=pd.to_datetime(BTC.date) # Aca es donde sale el error pero funciona\n",
    "print(\"----------------------DATOS CONVERTIDOS---------------------\")\n",
    "print(BTC[\"date\"])"
   ]
  },
  {
   "cell_type": "code",
   "execution_count": 4,
   "metadata": {},
   "outputs": [
    {
     "data": {
      "image/png": "[encoded data removed]",
      "text/plain": [
       "<Figure size 396x396 with 1 Axes>"
      ]
     },
     "metadata": {
      "needs_background": "light"
     },
     "output_type": "display_data"
    }
   ],
   "source": [
    "# Grafica dispersion - BoxPlot\n",
    "plt.figure(figsize=(5.5,5.5))\n",
    "g = sns.boxplot(BTC['close'])\n",
    "g.set_title('Box Plot Criptocurrency(close)')\n",
    "plt.show()\n",
    "# La grafica nos permite ver los outliers ( Hay Muchos )"
   ]
  },
  {
   "cell_type": "code",
   "execution_count": 5,
   "metadata": {},
   "outputs": [
    {
     "data": {
      "image/png": "[encoded data removed]",
      "text/plain": [
       "<Figure size 432x288 with 1 Axes>"
      ]
     },
     "metadata": {
      "needs_background": "light"
     },
     "output_type": "display_data"
    }
   ],
   "source": [
    "# Ahora vamos a graficar el plot de la serie de tiempo\n",
    "\n",
    "plt.plot(BTC['date'],BTC['close'],'k',label='close')\n",
    "plt.plot(BTC['date'],BTC['high'],'r',label='high')\n",
    "plt.plot(BTC['date'],BTC['low'],'b',label='low')\n",
    "plt.legend(loc='upper left')\n",
    "plt.title('Time Series Close')\n",
    "plt.xlabel('Tiempo')\n",
    "plt.ylabel('Close')\n",
    "plt.show()"
   ]
  },
  {
   "cell_type": "code",
   "execution_count": 6,
   "metadata": {},
   "outputs": [
    {
     "name": "stdout",
     "output_type": "stream",
     "text": [
      "      slug symbol     name       date  ranknow    open    high     low  \\\n",
      "0  bitcoin    BTC  Bitcoin 2013-04-28        1  135.30  135.98  132.10   \n",
      "1  bitcoin    BTC  Bitcoin 2013-04-29        1  134.44  147.49  134.00   \n",
      "2  bitcoin    BTC  Bitcoin 2013-04-30        1  144.00  146.93  134.05   \n",
      "3  bitcoin    BTC  Bitcoin 2013-05-01        1  139.00  139.89  107.72   \n",
      "4  bitcoin    BTC  Bitcoin 2013-05-02        1  116.38  125.60   92.28   \n",
      "\n",
      "    close  volume        market  close_ratio  spread  Scaled_close  \\\n",
      "0  134.21     0.0  1.488567e+09       0.5438    3.88      0.003386   \n",
      "1  144.54     0.0  1.603769e+09       0.7813   13.49      0.003917   \n",
      "2  139.00     0.0  1.542813e+09       0.3843   12.88      0.003632   \n",
      "3  116.99     0.0  1.298955e+09       0.2882   32.17      0.002499   \n",
      "4  105.21     0.0  1.168517e+09       0.3881   33.32      0.001893   \n",
      "\n",
      "   Scaled_high  Scaled_low  \n",
      "0     0.003069    0.003521  \n",
      "1     0.003644    0.003621  \n",
      "2     0.003616    0.003624  \n",
      "3     0.003264    0.002231  \n",
      "4     0.002550    0.001415  \n"
     ]
    },
    {
     "name": "stderr",
     "output_type": "stream",
     "text": [
      "c:\\programdata\\miniconda3\\lib\\site-packages\\ipykernel_launcher.py:3: SettingWithCopyWarning: \n",
      "A value is trying to be set on a copy of a slice from a DataFrame.\n",
      "Try using .loc[row_indexer,col_indexer] = value instead\n",
      "\n",
      "See the caveats in the documentation: http://pandas.pydata.org/pandas-docs/stable/indexing.html#indexing-view-versus-copy\n",
      "  This is separate from the ipykernel package so we can avoid doing imports until\n",
      "c:\\programdata\\miniconda3\\lib\\site-packages\\ipykernel_launcher.py:4: SettingWithCopyWarning: \n",
      "A value is trying to be set on a copy of a slice from a DataFrame.\n",
      "Try using .loc[row_indexer,col_indexer] = value instead\n",
      "\n",
      "See the caveats in the documentation: http://pandas.pydata.org/pandas-docs/stable/indexing.html#indexing-view-versus-copy\n",
      "  after removing the cwd from sys.path.\n",
      "c:\\programdata\\miniconda3\\lib\\site-packages\\ipykernel_launcher.py:5: SettingWithCopyWarning: \n",
      "A value is trying to be set on a copy of a slice from a DataFrame.\n",
      "Try using .loc[row_indexer,col_indexer] = value instead\n",
      "\n",
      "See the caveats in the documentation: http://pandas.pydata.org/pandas-docs/stable/indexing.html#indexing-view-versus-copy\n",
      "  \"\"\"\n"
     ]
    }
   ],
   "source": [
    "# Vamos a escalar la serie de tiempo\n",
    "scaler = MinMaxScaler(feature_range=(0,1))\n",
    "BTC['Scaled_close'] = scaler.fit_transform(np.array(BTC['close']).reshape(-1,1))\n",
    "BTC['Scaled_high'] = scaler.fit_transform(np.array(BTC['high']).reshape(-1,1))\n",
    "BTC['Scaled_low'] = scaler.fit_transform(np.array(BTC['low']).reshape(-1,1))\n",
    "\n",
    "print(BTC.head())"
   ]
  },
  {
   "cell_type": "code",
   "execution_count": 7,
   "metadata": {},
   "outputs": [
    {
     "data": {
      "image/png": "[encoded data removed]",
      "text/plain": [
       "<Figure size 432x288 with 1 Axes>"
      ]
     },
     "metadata": {
      "needs_background": "light"
     },
     "output_type": "display_data"
    }
   ],
   "source": [
    "plt.plot(BTC['date'],BTC['Scaled_close'],'k',label='close')\n",
    "plt.plot(BTC['date'],BTC['Scaled_high'],'r',label='high')\n",
    "plt.plot(BTC['date'],BTC['Scaled_low'],'b',label='low')\n",
    "plt.legend(loc='upper left')\n",
    "plt.title('Time Series Close(Scaled)')\n",
    "plt.xlabel('Tiempo')\n",
    "plt.ylabel('Close')\n",
    "plt.show()"
   ]
  },
  {
   "cell_type": "code",
   "execution_count": 8,
   "metadata": {},
   "outputs": [
    {
     "name": "stdout",
     "output_type": "stream",
     "text": [
      "----------------------TRAIN Y VALIDATION---------------------\n",
      "Shape of train: (1709, 16)\n",
      "Shape of test: (333, 16)\n"
     ]
    }
   ],
   "source": [
    "# Ahora vamos a partir en train set y validation set\n",
    "print(\"----------------------TRAIN Y VALIDATION---------------------\")\n",
    "\n",
    "split_date=dt.datetime(year=2018,month=1,day=1,hour=0)\n",
    "BTC_train = BTC.loc[BTC['date']<split_date]\n",
    "BTC_val = BTC.loc[BTC['date']>=split_date]\n",
    "print('Shape of train:', BTC_train.shape) \n",
    "print('Shape of test:', BTC_val.shape) \n"
   ]
  },
  {
   "cell_type": "code",
   "execution_count": 9,
   "metadata": {},
   "outputs": [
    {
     "name": "stdout",
     "output_type": "stream",
     "text": [
      "0    0.003386\n",
      "1    0.003917\n",
      "2    0.003632\n",
      "3    0.002499\n",
      "4    0.001893\n",
      "Name: Scaled_close, dtype: float64\n",
      "--------------------------------------------------------------------------\n",
      "1709    0.699408\n",
      "1710    0.767600\n",
      "1711    0.778866\n",
      "1712    0.799361\n",
      "1713    0.893566\n",
      "Name: Scaled_close, dtype: float64\n"
     ]
    }
   ],
   "source": [
    "print(BTC_train['Scaled_close'].head())\n",
    "print(\"--------------------------------------------------------------------------\")\n",
    "print(BTC_val['Scaled_close'].head())"
   ]
  },
  {
   "cell_type": "code",
   "execution_count": 10,
   "metadata": {},
   "outputs": [],
   "source": [
    "def makeXy(ts, nb_timesteps,ind): \n",
    "    \"\"\" \n",
    "    Input:  \n",
    "           ts: original time series \n",
    "           nb_timesteps: number of time steps in the regressors \n",
    "    Output:  \n",
    "           X: 2-D array of regressors \n",
    "           y: 1-D array of target  \n",
    "    \"\"\" \n",
    "    X = [] \n",
    "    y = [] \n",
    "    for i in range(nb_timesteps, ts.shape[0]):\n",
    "        cosa = i+ind\n",
    "        X.append(list(ts.loc[cosa-nb_timesteps:cosa-1])) \n",
    "        y.append(ts.loc[cosa]) \n",
    "    X, y = np.array(X), np.array(y) \n",
    "    return X, y "
   ]
  },
  {
   "cell_type": "code",
   "execution_count": 11,
   "metadata": {},
   "outputs": [
    {
     "data": {
      "text/plain": [
       "0.6994076371521496"
      ]
     },
     "execution_count": 11,
     "metadata": {},
     "output_type": "execute_result"
    }
   ],
   "source": [
    "BTC_val['Scaled_close'].loc[1709]"
   ]
  },
  {
   "cell_type": "code",
   "execution_count": 12,
   "metadata": {},
   "outputs": [
    {
     "name": "stdout",
     "output_type": "stream",
     "text": [
      "Shape of train arrays: (1702, 7) (1702,)\n"
     ]
    }
   ],
   "source": [
    "X_train, y_train = makeXy(BTC_train['Scaled_close'], 7,0) \n",
    "print('Shape of train arrays:', X_train.shape, y_train.shape) "
   ]
  },
  {
   "cell_type": "code",
   "execution_count": 13,
   "metadata": {},
   "outputs": [],
   "source": [
    "# ERROR \n",
    "X_val, y_val = makeXy(BTC_val['Scaled_close'], 7,1709) \n",
    "#print('Shape of train arrays:', X_val.shape, y_val.shape)"
   ]
  },
  {
   "cell_type": "code",
   "execution_count": 14,
   "metadata": {
    "scrolled": true
   },
   "outputs": [
    {
     "name": "stderr",
     "output_type": "stream",
     "text": [
      "Using TensorFlow backend.\n"
     ]
    }
   ],
   "source": [
    "from keras.layers import Dense, Input, Dropout \n",
    "from keras.optimizers import SGD \n",
    "from keras.models import Model \n",
    "from keras.models import load_model \n",
    "from keras.callbacks import ModelCheckpoint"
   ]
  },
  {
   "cell_type": "code",
   "execution_count": 15,
   "metadata": {},
   "outputs": [
    {
     "name": "stdout",
     "output_type": "stream",
     "text": [
      "WARNING:tensorflow:From c:\\programdata\\miniconda3\\lib\\site-packages\\tensorflow\\python\\framework\\op_def_library.py:263: colocate_with (from tensorflow.python.framework.ops) is deprecated and will be removed in a future version.\n",
      "Instructions for updating:\n",
      "Colocations handled automatically by placer.\n",
      "WARNING:tensorflow:From c:\\programdata\\miniconda3\\lib\\site-packages\\keras\\backend\\tensorflow_backend.py:3445: calling dropout (from tensorflow.python.ops.nn_ops) with keep_prob is deprecated and will be removed in a future version.\n",
      "Instructions for updating:\n",
      "Please use `rate` instead of `keep_prob`. Rate should be set to `rate = 1 - keep_prob`.\n",
      "_________________________________________________________________\n",
      "Layer (type)                 Output Shape              Param #   \n",
      "=================================================================\n",
      "input_1 (InputLayer)         (None, 7)                 0         \n",
      "_________________________________________________________________\n",
      "dense_1 (Dense)              (None, 32)                256       \n",
      "_________________________________________________________________\n",
      "dense_2 (Dense)              (None, 16)                528       \n",
      "_________________________________________________________________\n",
      "dense_3 (Dense)              (None, 16)                272       \n",
      "_________________________________________________________________\n",
      "dropout_1 (Dropout)          (None, 16)                0         \n",
      "_________________________________________________________________\n",
      "dense_4 (Dense)              (None, 1)                 17        \n",
      "=================================================================\n",
      "Total params: 1,073\n",
      "Trainable params: 1,073\n",
      "Non-trainable params: 0\n",
      "_________________________________________________________________\n",
      "WARNING:tensorflow:From c:\\programdata\\miniconda3\\lib\\site-packages\\tensorflow\\python\\ops\\math_ops.py:3066: to_int32 (from tensorflow.python.ops.math_ops) is deprecated and will be removed in a future version.\n",
      "Instructions for updating:\n",
      "Use tf.cast instead.\n",
      "Train on 1702 samples, validate on 326 samples\n",
      "Epoch 1/20\n",
      "1702/1702 [==============================] - 1s 328us/step - loss: 0.0032 - val_loss: 0.0012\n",
      "Epoch 2/20\n",
      "1702/1702 [==============================] - 0s 108us/step - loss: 0.0017 - val_loss: 9.6999e-04\n",
      "Epoch 3/20\n",
      "1702/1702 [==============================] - 0s 103us/step - loss: 7.6195e-04 - val_loss: 0.0014\n",
      "Epoch 4/20\n",
      "1702/1702 [==============================] - 0s 93us/step - loss: 7.0980e-04 - val_loss: 0.0022\n",
      "Epoch 5/20\n",
      "1702/1702 [==============================] - 0s 90us/step - loss: 8.1967e-04 - val_loss: 0.0011\n",
      "Epoch 6/20\n",
      "1702/1702 [==============================] - 0s 78us/step - loss: 5.6983e-04 - val_loss: 7.4535e-04\n",
      "Epoch 7/20\n",
      "1702/1702 [==============================] - 0s 154us/step - loss: 8.4458e-04 - val_loss: 0.0016\n",
      "Epoch 8/20\n",
      "1702/1702 [==============================] - 0s 140us/step - loss: 7.6981e-04 - val_loss: 0.0067\n",
      "Epoch 9/20\n",
      "1702/1702 [==============================] - 0s 87us/step - loss: 8.4596e-04 - val_loss: 0.0046\n",
      "Epoch 10/20\n",
      "1702/1702 [==============================] - 0s 72us/step - loss: 0.0011 - val_loss: 7.0693e-04\n",
      "Epoch 11/20\n",
      "1702/1702 [==============================] - 0s 84us/step - loss: 5.3559e-04 - val_loss: 7.9018e-04\n",
      "Epoch 12/20\n",
      "1702/1702 [==============================] - 0s 71us/step - loss: 5.0294e-04 - val_loss: 7.1067e-04\n",
      "Epoch 13/20\n",
      "1702/1702 [==============================] - 0s 64us/step - loss: 8.3890e-04 - val_loss: 0.0015\n",
      "Epoch 14/20\n",
      "1702/1702 [==============================] - 0s 63us/step - loss: 8.2871e-04 - val_loss: 6.8008e-04\n",
      "Epoch 15/20\n",
      "1702/1702 [==============================] - 0s 116us/step - loss: 7.1224e-04 - val_loss: 5.2146e-04\n",
      "Epoch 16/20\n",
      "1702/1702 [==============================] - 0s 71us/step - loss: 5.1563e-04 - val_loss: 6.0128e-04\n",
      "Epoch 17/20\n",
      "1702/1702 [==============================] - 0s 77us/step - loss: 5.3112e-04 - val_loss: 0.0040\n",
      "Epoch 18/20\n",
      "1702/1702 [==============================] - 0s 72us/step - loss: 4.6489e-04 - val_loss: 0.0028\n",
      "Epoch 19/20\n",
      "1702/1702 [==============================] - 0s 69us/step - loss: 7.2132e-04 - val_loss: 7.7641e-04\n",
      "Epoch 20/20\n",
      "1702/1702 [==============================] - 0s 69us/step - loss: 6.6432e-04 - val_loss: 0.0045\n"
     ]
    },
    {
     "data": {
      "text/plain": [
       "<keras.callbacks.History at 0x15cd3517550>"
      ]
     },
     "execution_count": 15,
     "metadata": {},
     "output_type": "execute_result"
    }
   ],
   "source": [
    "input_layer = Input(shape=(7,), dtype='float32') \n",
    "\n",
    "dense1 = Dense(32, activation='linear')(input_layer) \n",
    "dense2 = Dense(16, activation='linear')(dense1) \n",
    "dense3 = Dense(16, activation='linear')(dense2)\n",
    "\n",
    "dropout_layer = Dropout(0.2)(dense3) \n",
    "\n",
    "output_layer = Dense(1, activation='linear')(dropout_layer) \n",
    "ts_model = Model(inputs=input_layer, outputs=output_layer) \n",
    "ts_model.compile(loss='mean_squared_error', optimizer='adam') \n",
    "ts_model.summary()\n",
    "\n",
    "save_weights_at = os.path.join('keras_models', 'Data')\n",
    "#save_weights_at = \"Data1\"\n",
    "save_best = ModelCheckpoint(save_weights_at, monitor='val_loss', verbose=0, \n",
    "                            save_best_only=True, save_weights_only=False, mode='min', \n",
    "                            period=1) \n",
    "ts_model.fit(x=X_train, y=y_train, batch_size=16, epochs=20, \n",
    "             verbose=1, callbacks=[save_best], validation_data=(X_val, y_val), \n",
    "             shuffle=True) \n"
   ]
  },
  {
   "cell_type": "code",
   "execution_count": 39,
   "metadata": {},
   "outputs": [
    {
     "name": "stdout",
     "output_type": "stream",
     "text": [
      "(326, 7)\n",
      "(326,)\n"
     ]
    }
   ],
   "source": [
    "from sklearn.metrics import r2_score \n",
    "\n",
    "best_model = load_model(os.path.join('keras_models', 'Data')) \n",
    "preds = best_model.predict(X_val)\n",
    "\n",
    "print(X_val.shape)\n",
    "print(y_val.shape)"
   ]
  },
  {
   "cell_type": "code",
   "execution_count": 44,
   "metadata": {},
   "outputs": [
    {
     "name": "stdout",
     "output_type": "stream",
     "text": [
      "R-squared for the validation set: 0.9472\n"
     ]
    },
    {
     "data": {
      "text/plain": [
       "Text(0.5,0,'Index')"
      ]
     },
     "execution_count": 44,
     "metadata": {},
     "output_type": "execute_result"
    },
    {
     "data": {
      "image/png": "[encoded data removed]",
      "text/plain": [
       "<Figure size 432x288 with 1 Axes>"
      ]
     },
     "metadata": {
      "needs_background": "light"
     },
     "output_type": "display_data"
    }
   ],
   "source": [
    "# MODELO PREDICCION\n",
    "\n",
    "#pred_PRES = mu + sigma*preds \n",
    "#pred_PRES = np.squeeze(preds) \n",
    " \n",
    "r2 = r2_score(y_val, preds) \n",
    "print('R-squared for the validation set:', round(r2,4)) \n",
    "\n",
    "\n",
    "#plt.figure(figsize=(5.5, 5.5))\n",
    "plt.plot(y_val, linestyle='-', marker='*', color='r') \n",
    "plt.plot(preds, linestyle='-', marker='.', color='b') \n",
    "plt.legend(['Actual','Predicted'], loc=2) \n",
    "plt.title('Actual vs Predicted Close') \n",
    "plt.ylabel('Close') \n",
    "plt.xlabel('Index')"
   ]
  },
  {
   "cell_type": "code",
   "execution_count": null,
   "metadata": {},
   "outputs": [],
   "source": []
  }
 ],
 "metadata": {
  "kernelspec": {
   "display_name": "Python 3",
   "language": "python",
   "name": "python3"
  },
  "language_info": {
   "codemirror_mode": {
    "name": "ipython",
    "version": 3
   },
   "file_extension": ".py",
   "mimetype": "text/x-python",
   "name": "python",
   "nbconvert_exporter": "python",
   "pygments_lexer": "ipython3",
   "version": "3.6.7"
  }
 },
 "nbformat": 4,
 "nbformat_minor": 2
}
